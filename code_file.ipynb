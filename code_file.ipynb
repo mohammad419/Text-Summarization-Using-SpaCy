{
 "cells": [
  {
   "cell_type": "code",
   "execution_count": 1,
   "metadata": {},
   "outputs": [],
   "source": [
    "import numpy as np \n",
    "import pandas as pd"
   ]
  },
  {
   "cell_type": "code",
   "execution_count": 56,
   "metadata": {},
   "outputs": [],
   "source": [
    "import spacy \n",
    "from spacy.lang.en.stop_words import STOP_WORDS\n",
    "from string import punctuation\n",
    "stopwords = list(STOP_WORDS)\n",
    "nlp = spacy.load(\"en_core_web_sm\")\n",
    "from heapq import nlargest"
   ]
  },
  {
   "cell_type": "code",
   "execution_count": 92,
   "metadata": {},
   "outputs": [],
   "source": [
    "def summary(docs):\n",
    "    \n",
    "    docx = nlp(docs)\n",
    "    \n",
    "    mytokens = [token.text for token in docx]\n",
    "\n",
    "    word_frequencies = {}\n",
    "    for word in docx:\n",
    "        if word.text not in stopwords:\n",
    "                if word.text not in word_frequencies.keys():\n",
    "                    word_frequencies[word.text] = 1\n",
    "                else:\n",
    "                    word_frequencies[word.text] += 1\n",
    "\n",
    "    \n",
    "    maximum_frequency = max(word_frequencies.values())\n",
    "        \n",
    "    for word in word_frequencies.keys():  \n",
    "                \n",
    "                word_frequencies[word] = (word_frequencies[word]/maximum_frequency)\n",
    "                \n",
    "                \n",
    "    sentence_list = [ sentence for sentence in docx.sents ]\n",
    "    [w.text.lower() for t in sentence_list for w in t ]\n",
    "    sentence_scores = {}  \n",
    "    for sent in sentence_list:  \n",
    "        for word in sent:\n",
    "            if word.text.lower() in word_frequencies.keys():\n",
    "                if len(sent.text.split(' ')) < 30:\n",
    "                    if sent not in sentence_scores.keys():\n",
    "                        sentence_scores[sent] = word_frequencies[word.text.lower()]\n",
    "                    else:\n",
    "                        sentence_scores[sent] += word_frequencies[word.text.lower()]\n",
    "                \n",
    "                \n",
    "\n",
    "    summarized_sentences = nlargest(int(len(sentence_list)/2), sentence_scores, key=sentence_scores.get)\n",
    "    return summarized_sentences            "
   ]
  },
  {
   "cell_type": "code",
   "execution_count": 81,
   "metadata": {},
   "outputs": [],
   "source": [
    "txt1 = \"\"\"\" Why I'm Losing Hope In India\n",
    "Why I'm Losing Hope In India\n",
    "Calling All Women Entrepreneurs Looking to Learn(Goldman Sachs 10,000 Women)\n",
    "218\n",
    "My generation of Indians has often been disappointed in our country, and we have\n",
    "sometimes despaired about the direction it was taking, but it's been impossible for us to stop\n",
    "hoping.\n",
    "Our own past has trained us to see the silver lining.\n",
    "Opportunities we couldn't imagine growing up in the 1970s and '80s emerged from nowhere\n",
    "and changed our lives, and many of us believe history will keep repeating, with the pain of\n",
    "the pandemic shocking the economy out of its pre-Covid inertia.\n",
    "So it breaks my heart to have to suggest to today's rising generation that this crisis is\n",
    "different than others we have weathered, that the walls are closing in again, and the\n",
    "opportunity set for India is shrinking, perhaps for a very long time. The national dream of\n",
    "emulating China's rapid growth is receding - by some economic yardsticks, we can't even\n",
    "keep up with Bangladesh.\n",
    "A disturbing arbitrariness has crept into policymaking, institutions have decayed and the\n",
    "economy's structural deficiencies have worsened. Animal spirits have been sucked out of all\n",
    "but a handful of firms. Zombie business groups are perched atop the debris of debt-fuelled\n",
    "expansion, waiting for politicians to signal what role they still have, if any. The defeatist\n",
    "slogan of self-reliance, which blighted our parents' generation, is back. Politicians are using\n",
    "religious discord and caste conflicts to drive a wedge in the society.\n",
    "To make matters worse, India has handled the coronavirus pandemic with the same inept\n",
    "authoritarianism that's come to define its approach in all spheres, economic, political and\n",
    "social. With more than 9 million infections, India is the second-worst affected country after\n",
    "the United States. The economy slipped into an unprecedented recession last quarter.\n",
    "Coronavirus: India is the second-worst affected country after the United States\n",
    "The post-lockdown economy will simply not have enough demand to consume what can be\n",
    "produced. There's some attempt to reform the supply side - labour and farm markets, in\n",
    "particular. But not much is being done to revive demand, either in the short or the long run.\n",
    "Some of us are wondering if this callousness will cause India's demographic dividend - two\n",
    "out of three Indians are still in the magic age group of 15 to 64 years - to go unclaimed.\n",
    "Yes, there's time. If India stops turning inward and embraces an open, transparent\n",
    "partnership with global investors, hundreds of millions more would get a shot at prosperity. A\n",
    "stagnant world economy could tap a new source of future demand. The West might win a\n",
    "strong and reliable security partner in Asia. The '90s optimism will renew itself. But if India\n",
    "remains stuck in a middle-income trap, people will soon stop asking if it could be the next\n",
    "China.\"\"\" "
   ]
  },
  {
   "cell_type": "code",
   "execution_count": 87,
   "metadata": {},
   "outputs": [
    {
     "data": {
      "text/plain": [
       "[My generation of Indians has often been disappointed in our country, and we have\n",
       " sometimes despaired about the direction it was taking, but it's been impossible for us to stop\n",
       " hoping.,\n",
       " To make matters worse, India has handled the coronavirus pandemic with the same inept\n",
       " authoritarianism that's come to define its approach in all spheres, economic, political and\n",
       " social.,\n",
       " The national dream of\n",
       " emulating China's rapid growth is receding - by some economic yardsticks, we can't even\n",
       " keep up with Bangladesh.,\n",
       " But if India\n",
       " remains stuck in a middle-income trap, people will soon stop asking if it could be the next\n",
       " China.,\n",
       " Zombie business groups are perched atop the debris of debt-fuelled\n",
       " expansion, waiting for politicians to signal what role they still have, if any.,\n",
       " The defeatist\n",
       " slogan of self-reliance, which blighted our parents' generation, is back.,\n",
       " If India stops turning inward and embraces an open, transparent\n",
       " partnership with global investors, hundreds of millions more would get a shot at prosperity.,\n",
       " With more than 9 million infections, India is the second-worst affected country after\n",
       " the United States.,\n",
       " Politicians are using\n",
       " religious discord and caste conflicts to drive a wedge in the society.,\n",
       " There's some attempt to reform the supply side - labour and farm markets, in\n",
       " particular.,\n",
       " A disturbing arbitrariness has crept into policymaking, institutions have decayed and the\n",
       " economy's structural deficiencies have worsened.,\n",
       " But not much is being done to revive demand, either in the short or the long run.,\n",
       " The post-lockdown economy will simply not have enough demand to consume what can be\n",
       " produced.,\n",
       " A\n",
       " stagnant world economy could tap a new source of future demand.,\n",
       " The economy slipped into an unprecedented recession last quarter.]"
      ]
     },
     "execution_count": 87,
     "metadata": {},
     "output_type": "execute_result"
    }
   ],
   "source": [
    "text1 = summary(txt1)\n",
    "text1"
   ]
  },
  {
   "cell_type": "code",
   "execution_count": 88,
   "metadata": {},
   "outputs": [
    {
     "data": {
      "text/plain": [
       "\"My generation of Indians has often been disappointed in our country, and we havesometimes despaired about the direction it was taking, but it's been impossible for us to stophoping. To make matters worse, India has handled the coronavirus pandemic with the same ineptauthoritarianism that's come to define its approach in all spheres, economic, political andsocial. The national dream ofemulating China's rapid growth is receding - by some economic yardsticks, we can't evenkeep up with Bangladesh. But if Indiaremains stuck in a middle-income trap, people will soon stop asking if it could be the nextChina. Zombie business groups are perched atop the debris of debt-fuelledexpansion, waiting for politicians to signal what role they still have, if any. The defeatistslogan of self-reliance, which blighted our parents' generation, is back. If India stops turning inward and embraces an open, transparentpartnership with global investors, hundreds of millions more would get a shot at prosperity. With more than 9 million infections, India is the second-worst affected country afterthe United States. Politicians are usingreligious discord and caste conflicts to drive a wedge in the society. There's some attempt to reform the supply side - labour and farm markets, inparticular. A disturbing arbitrariness has crept into policymaking, institutions have decayed and theeconomy's structural deficiencies have worsened. But not much is being done to revive demand, either in the short or the long run. The post-lockdown economy will simply not have enough demand to consume what can beproduced. Astagnant world economy could tap a new source of future demand. The economy slipped into an unprecedented recession last quarter.\""
      ]
     },
     "execution_count": 88,
     "metadata": {},
     "output_type": "execute_result"
    }
   ],
   "source": [
    "final_sentences = [ w.text for w in text1 ]\n",
    "summary = ' '.join(final_sentences)\n",
    "summary = summary.replace('\\n','')\n",
    "summary"
   ]
  }
 ],
 "metadata": {
  "kernelspec": {
   "display_name": "Python 3",
   "language": "python",
   "name": "python3"
  },
  "language_info": {
   "codemirror_mode": {
    "name": "ipython",
    "version": 3
   },
   "file_extension": ".py",
   "mimetype": "text/x-python",
   "name": "python",
   "nbconvert_exporter": "python",
   "pygments_lexer": "ipython3",
   "version": "3.7.6"
  }
 },
 "nbformat": 4,
 "nbformat_minor": 4
}
